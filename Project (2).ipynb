{
 "cells": [
  {
   "cell_type": "markdown",
   "id": "16b9311a-c2e2-47a0-a2d7-291f4bba56a9",
   "metadata": {},
   "source": [
    "# Predicting \n",
    "\n",
    "## Introduction\n",
    "\n",
    "### Authored by:\n",
    "#### Team Name : UPMOST\n",
    "\n",
    "Team Members: Sudhir, Ranjith, Srikar, Abbas, Shiva Ram, Neha.\n",
    "### Description of the analysis\n",
    "\n",
    "In this project, we are using a dataset containing Liver Patient from UCI's repository.\n",
    "\n",
    "Our prediction task is to determine whether a person needs to be diagnosed for Cirrhosis Based on chemical compounds(bilirubin, albumin, proteins, alkaline phosphatase) present in human body.\n",
    "We are using the input variables that include Age, Gender,TB(Total Bilirubin),DB(Direct Bilirubin),Alkphos(Alkaline Phosphatase),Sgpt(Alamine Aminotransferase),Sgot(Aspartate Aminotransferase) \n",
    "TP(Total Proteins),ALB(Albumin),A/G(Ratio Albumin)and Globulin Ratio Education.\n",
    "\n",
    "The important Factor here is recall.\n",
    "\n",
    "To conduct our analysis, we will utilize a set of Machine Learning Modules(k-nn, Descision Tree, RandomForest,XGBoost,Neural network, AdaBoost, and gradient boost)."
   ]
  },
  {
   "cell_type": "markdown",
   "id": "7ceda8e3-81f7-4f04-9b79-715f6bd8b47a",
   "metadata": {},
   "source": [
    "## Preliminary (Business) Problem Scoping\n",
    "\n",
    "We are developing a binary classifier to identify if a given person in the datasetneed to be diagnosed for Cirrhosis or not. Our positive case will therefore be Class1(Need's to be diagnosed) and Class0 (Does not need to be diagnosed) will be our negative case.\n",
    "\n",
    "We will be trying out different models and check if we can develop a model that has sufficient predictive power to accurately "
   ]
  },
  {
   "cell_type": "markdown",
   "id": "49b16901-ef42-4448-8975-aca6e61fd187",
   "metadata": {},
   "source": [
    "## Step 1 - Importing the required packages"
   ]
  },
  {
   "cell_type": "code",
   "execution_count": 1,
   "id": "8d10ab9c-2145-4642-a704-98daeecd44b4",
   "metadata": {},
   "outputs": [],
   "source": [
    "# importing packages\n",
    "import pandas as pd\n",
    "import numpy as np\n",
    "import matplotlib.pyplot as plt\n",
    "from sklearn.tree import plot_tree\n",
    "from sklearn.preprocessing import LabelEncoder\n",
    "from sklearn.linear_model import LogisticRegression\n",
    "from sklearn.model_selection import train_test_split\n",
    "from sklearn.tree import DecisionTreeClassifier\n",
    "from sklearn.ensemble import RandomForestClassifier, GradientBoostingClassifier, AdaBoostClassifier\n",
    "from sklearn.neighbors import KNeighborsClassifier \n",
    "from sklearn.metrics import confusion_matrix, accuracy_score, precision_score, recall_score, f1_score, plot_roc_curve, roc_auc_score, roc_curve, auc, RocCurveDisplay, PrecisionRecallDisplay, precision_recall_curve\n",
    "from sklearn.model_selection import GridSearchCV, RandomizedSearchCV\n",
    "\n"
   ]
  },
  {
   "cell_type": "markdown",
   "id": "928d3352-9e8e-4aef-9f8f-947cd36613d7",
   "metadata": {},
   "source": [
    "## Step 2: Load, clean and prepare data\n"
   ]
  },
  {
   "cell_type": "markdown",
   "id": "3b86424c-7346-4e4a-911c-e860bd0d5d57",
   "metadata": {},
   "source": [
    "### Step 2.1-Loading the data from data source"
   ]
  },
  {
   "cell_type": "code",
   "execution_count": 2,
   "id": "faf2bfcb-1e29-4285-9e42-4bea25b80a87",
   "metadata": {},
   "outputs": [],
   "source": [
    "patient_data = pd.read_csv(\"indian_liver_patient (1).csv\")"
   ]
  },
  {
   "cell_type": "markdown",
   "id": "a25ded49-9a1d-409f-b08b-afcf1bbb5550",
   "metadata": {},
   "source": [
    "### Step 2.2- Data Exploration"
   ]
  },
  {
   "cell_type": "code",
   "execution_count": 3,
   "id": "9189cc06-44a1-4939-b845-d2322d8dfbb0",
   "metadata": {},
   "outputs": [
    {
     "name": "stdout",
     "output_type": "stream",
     "text": [
      "Index(['Age', 'Gender', 'Total_Bilirubin', 'Direct_Bilirubin',\n",
      "       'Alkaline_Phosphotase', 'Alamine_Aminotransferase',\n",
      "       'Aspartate_Aminotransferase', 'Total_Protiens', 'Albumin',\n",
      "       'Albumin_and_Globulin_Ratio', 'Result_data'],\n",
      "      dtype='object')\n",
      "              Age  Total_Bilirubin  Direct_Bilirubin  Alkaline_Phosphotase  \\\n",
      "count  579.000000       579.000000        579.000000            579.000000   \n",
      "mean    44.782383         3.315371          1.494128            291.366149   \n",
      "std     16.221786         6.227716          2.816499            243.561863   \n",
      "min      4.000000         0.400000          0.100000             63.000000   \n",
      "25%     33.000000         0.800000          0.200000            175.500000   \n",
      "50%     45.000000         1.000000          0.300000            208.000000   \n",
      "75%     58.000000         2.600000          1.300000            298.000000   \n",
      "max     90.000000        75.000000         19.700000           2110.000000   \n",
      "\n",
      "       Alamine_Aminotransferase  Aspartate_Aminotransferase  Total_Protiens  \\\n",
      "count                579.000000                  579.000000      579.000000   \n",
      "mean                  81.126079                  110.414508        6.481693   \n",
      "std                  183.182845                  289.850034        1.084641   \n",
      "min                   10.000000                   10.000000        2.700000   \n",
      "25%                   23.000000                   25.000000        5.800000   \n",
      "50%                   35.000000                   42.000000        6.600000   \n",
      "75%                   61.000000                   87.000000        7.200000   \n",
      "max                 2000.000000                 4929.000000        9.600000   \n",
      "\n",
      "          Albumin  Albumin_and_Globulin_Ratio  Result_data  \n",
      "count  579.000000                  579.000000   579.000000  \n",
      "mean     3.138515                    0.947064     0.715026  \n",
      "std      0.794435                    0.319592     0.451792  \n",
      "min      0.900000                    0.300000     0.000000  \n",
      "25%      2.600000                    0.700000     0.000000  \n",
      "50%      3.100000                    0.930000     1.000000  \n",
      "75%      3.800000                    1.100000     1.000000  \n",
      "max      5.500000                    2.800000     1.000000  \n",
      "<class 'pandas.core.frame.DataFrame'>\n",
      "RangeIndex: 579 entries, 0 to 578\n",
      "Data columns (total 11 columns):\n",
      " #   Column                      Non-Null Count  Dtype  \n",
      "---  ------                      --------------  -----  \n",
      " 0   Age                         579 non-null    int64  \n",
      " 1   Gender                      579 non-null    object \n",
      " 2   Total_Bilirubin             579 non-null    float64\n",
      " 3   Direct_Bilirubin            579 non-null    float64\n",
      " 4   Alkaline_Phosphotase        579 non-null    int64  \n",
      " 5   Alamine_Aminotransferase    579 non-null    int64  \n",
      " 6   Aspartate_Aminotransferase  579 non-null    int64  \n",
      " 7   Total_Protiens              579 non-null    float64\n",
      " 8   Albumin                     579 non-null    float64\n",
      " 9   Albumin_and_Globulin_Ratio  579 non-null    float64\n",
      " 10  Result_data                 579 non-null    int64  \n",
      "dtypes: float64(5), int64(5), object(1)\n",
      "memory usage: 49.9+ KB\n",
      "None\n"
     ]
    }
   ],
   "source": [
    "# Explore the dataset\n",
    "# read the first row of the dataset \n",
    "print(patient_data.columns)\n",
    "print(patient_data.describe())\n",
    "print(patient_data.info())"
   ]
  },
  {
   "cell_type": "markdown",
   "id": "9df10f7d-28ce-44d1-8190-93a086d86045",
   "metadata": {},
   "source": [
    "### 2.3 Clean/transform data (where necessary)\n",
    "Cleaning up column names"
   ]
  },
  {
   "cell_type": "code",
   "execution_count": 4,
   "id": "0dd81b9f-cdf1-4079-b7dc-c010f8a250e4",
   "metadata": {},
   "outputs": [
    {
     "data": {
      "text/plain": [
       "Index(['Age', 'Gender', 'Total_Bilirubin', 'Direct_Bilirubin',\n",
       "       'Alkaline_Phosphotase', 'Alamine_Aminotransferase',\n",
       "       'Aspartate_Aminotransferase', 'Total_Protiens', 'Albumin',\n",
       "       'Albumin_and_Globulin_Ratio', 'Result_data'],\n",
       "      dtype='object')"
      ]
     },
     "execution_count": 4,
     "metadata": {},
     "output_type": "execute_result"
    }
   ],
   "source": [
    "patient_data.columns = [s.strip() for s in patient_data.columns] \n",
    "patient_data.columns"
   ]
  },
  {
   "cell_type": "code",
   "execution_count": 5,
   "id": "17b54b50-df7f-4519-8596-da52d01bc22a",
   "metadata": {},
   "outputs": [
    {
     "data": {
      "text/plain": [
       "Age                           0\n",
       "Gender                        0\n",
       "Total_Bilirubin               0\n",
       "Direct_Bilirubin              0\n",
       "Alkaline_Phosphotase          0\n",
       "Alamine_Aminotransferase      0\n",
       "Aspartate_Aminotransferase    0\n",
       "Total_Protiens                0\n",
       "Albumin                       0\n",
       "Albumin_and_Globulin_Ratio    0\n",
       "Result_data                   0\n",
       "dtype: int64"
      ]
     },
     "execution_count": 5,
     "metadata": {},
     "output_type": "execute_result"
    }
   ],
   "source": [
    "# Checking for null values\n",
    "patient_data.isnull().sum()"
   ]
  },
  {
   "cell_type": "markdown",
   "id": "1f0f4672-4d97-4150-ab41-f9de6c82fe06",
   "metadata": {},
   "source": [
    "#### Transforming Gender column"
   ]
  },
  {
   "cell_type": "code",
   "execution_count": 6,
   "id": "2f7109bf-e522-494d-8b73-55b1ab3ad241",
   "metadata": {},
   "outputs": [
    {
     "data": {
      "text/plain": [
       "Age                              int64\n",
       "Gender                        category\n",
       "Total_Bilirubin                float64\n",
       "Direct_Bilirubin               float64\n",
       "Alkaline_Phosphotase             int64\n",
       "Alamine_Aminotransferase         int64\n",
       "Aspartate_Aminotransferase       int64\n",
       "Total_Protiens                 float64\n",
       "Albumin                        float64\n",
       "Albumin_and_Globulin_Ratio     float64\n",
       "Result_data                      int64\n",
       "dtype: object"
      ]
     },
     "execution_count": 6,
     "metadata": {},
     "output_type": "execute_result"
    }
   ],
   "source": [
    "# Categorizing Gender column\n",
    "patient_data['Gender'] = patient_data['Gender'].astype('category')\n",
    "patient_data.dtypes"
   ]
  },
  {
   "cell_type": "markdown",
   "id": "fa0fd128-c6e2-4b2a-be91-24700c65f70c",
   "metadata": {},
   "source": [
    "We will encode this data using OrdinalEncoder for the Gender column"
   ]
  },
  {
   "cell_type": "code",
   "execution_count": 7,
   "id": "0c8f06cd-ddfd-4e08-bacd-3b75232b383b",
   "metadata": {},
   "outputs": [
    {
     "data": {
      "text/html": [
       "<div>\n",
       "<style scoped>\n",
       "    .dataframe tbody tr th:only-of-type {\n",
       "        vertical-align: middle;\n",
       "    }\n",
       "\n",
       "    .dataframe tbody tr th {\n",
       "        vertical-align: top;\n",
       "    }\n",
       "\n",
       "    .dataframe thead th {\n",
       "        text-align: right;\n",
       "    }\n",
       "</style>\n",
       "<table border=\"1\" class=\"dataframe\">\n",
       "  <thead>\n",
       "    <tr style=\"text-align: right;\">\n",
       "      <th></th>\n",
       "      <th>Age</th>\n",
       "      <th>Gender</th>\n",
       "      <th>Total_Bilirubin</th>\n",
       "      <th>Direct_Bilirubin</th>\n",
       "      <th>Alkaline_Phosphotase</th>\n",
       "      <th>Alamine_Aminotransferase</th>\n",
       "      <th>Aspartate_Aminotransferase</th>\n",
       "      <th>Total_Protiens</th>\n",
       "      <th>Albumin</th>\n",
       "      <th>Albumin_and_Globulin_Ratio</th>\n",
       "      <th>Result_data</th>\n",
       "    </tr>\n",
       "  </thead>\n",
       "  <tbody>\n",
       "    <tr>\n",
       "      <th>0</th>\n",
       "      <td>65</td>\n",
       "      <td>0</td>\n",
       "      <td>0.7</td>\n",
       "      <td>0.1</td>\n",
       "      <td>187</td>\n",
       "      <td>16</td>\n",
       "      <td>18</td>\n",
       "      <td>6.8</td>\n",
       "      <td>3.3</td>\n",
       "      <td>0.90</td>\n",
       "      <td>1</td>\n",
       "    </tr>\n",
       "    <tr>\n",
       "      <th>1</th>\n",
       "      <td>62</td>\n",
       "      <td>1</td>\n",
       "      <td>10.9</td>\n",
       "      <td>5.5</td>\n",
       "      <td>699</td>\n",
       "      <td>64</td>\n",
       "      <td>100</td>\n",
       "      <td>7.5</td>\n",
       "      <td>3.2</td>\n",
       "      <td>0.74</td>\n",
       "      <td>1</td>\n",
       "    </tr>\n",
       "    <tr>\n",
       "      <th>2</th>\n",
       "      <td>62</td>\n",
       "      <td>1</td>\n",
       "      <td>7.3</td>\n",
       "      <td>4.1</td>\n",
       "      <td>490</td>\n",
       "      <td>60</td>\n",
       "      <td>68</td>\n",
       "      <td>7.0</td>\n",
       "      <td>3.3</td>\n",
       "      <td>0.89</td>\n",
       "      <td>1</td>\n",
       "    </tr>\n",
       "    <tr>\n",
       "      <th>3</th>\n",
       "      <td>58</td>\n",
       "      <td>1</td>\n",
       "      <td>1.0</td>\n",
       "      <td>0.4</td>\n",
       "      <td>182</td>\n",
       "      <td>14</td>\n",
       "      <td>20</td>\n",
       "      <td>6.8</td>\n",
       "      <td>3.4</td>\n",
       "      <td>1.00</td>\n",
       "      <td>1</td>\n",
       "    </tr>\n",
       "    <tr>\n",
       "      <th>4</th>\n",
       "      <td>72</td>\n",
       "      <td>1</td>\n",
       "      <td>3.9</td>\n",
       "      <td>2.0</td>\n",
       "      <td>195</td>\n",
       "      <td>27</td>\n",
       "      <td>59</td>\n",
       "      <td>7.3</td>\n",
       "      <td>2.4</td>\n",
       "      <td>0.40</td>\n",
       "      <td>1</td>\n",
       "    </tr>\n",
       "  </tbody>\n",
       "</table>\n",
       "</div>"
      ],
      "text/plain": [
       "   Age  Gender  Total_Bilirubin  Direct_Bilirubin  Alkaline_Phosphotase  \\\n",
       "0   65       0              0.7               0.1                   187   \n",
       "1   62       1             10.9               5.5                   699   \n",
       "2   62       1              7.3               4.1                   490   \n",
       "3   58       1              1.0               0.4                   182   \n",
       "4   72       1              3.9               2.0                   195   \n",
       "\n",
       "   Alamine_Aminotransferase  Aspartate_Aminotransferase  Total_Protiens  \\\n",
       "0                        16                          18             6.8   \n",
       "1                        64                         100             7.5   \n",
       "2                        60                          68             7.0   \n",
       "3                        14                          20             6.8   \n",
       "4                        27                          59             7.3   \n",
       "\n",
       "   Albumin  Albumin_and_Globulin_Ratio  Result_data  \n",
       "0      3.3                        0.90            1  \n",
       "1      3.2                        0.74            1  \n",
       "2      3.3                        0.89            1  \n",
       "3      3.4                        1.00            1  \n",
       "4      2.4                        0.40            1  "
      ]
     },
     "execution_count": 7,
     "metadata": {},
     "output_type": "execute_result"
    }
   ],
   "source": [
    "# Encode Gender column\n",
    "le =LabelEncoder()\n",
    "patient_data['Gender'] = le.fit_transform(patient_data['Gender'])\n",
    "patient_data.head()"
   ]
  },
  {
   "cell_type": "markdown",
   "id": "48b4ac02-e5ce-427d-9523-0f1bf65cc62d",
   "metadata": {},
   "source": [
    "### 2.4 Checking distribution of classes\n"
   ]
  },
  {
   "cell_type": "code",
   "execution_count": 8,
   "id": "7c8d17e8-8c59-4901-9edd-4d3831bc6a82",
   "metadata": {},
   "outputs": [
    {
     "data": {
      "text/plain": [
       "1    414\n",
       "0    165\n",
       "Name: Result_data, dtype: int64"
      ]
     },
     "execution_count": 8,
     "metadata": {},
     "output_type": "execute_result"
    }
   ],
   "source": [
    "patient_data['Result_data'].value_counts()"
   ]
  },
  {
   "cell_type": "code",
   "execution_count": 9,
   "id": "ca3b0515-3607-4fde-8501-eb4418018d35",
   "metadata": {},
   "outputs": [],
   "source": [
    "X = patient_data.drop('Result_data', axis = 1).copy()"
   ]
  },
  {
   "cell_type": "code",
   "execution_count": 10,
   "id": "104aa64f-b9e6-4ef5-8467-674b3ee80358",
   "metadata": {},
   "outputs": [],
   "source": [
    "y = patient_data['Result_data'].copy()"
   ]
  },
  {
   "cell_type": "code",
   "execution_count": 11,
   "id": "ae5fd320-ef28-4e61-ae68-c2b52697a2c4",
   "metadata": {},
   "outputs": [
    {
     "data": {
      "text/html": [
       "<div>\n",
       "<style scoped>\n",
       "    .dataframe tbody tr th:only-of-type {\n",
       "        vertical-align: middle;\n",
       "    }\n",
       "\n",
       "    .dataframe tbody tr th {\n",
       "        vertical-align: top;\n",
       "    }\n",
       "\n",
       "    .dataframe thead th {\n",
       "        text-align: right;\n",
       "    }\n",
       "</style>\n",
       "<table border=\"1\" class=\"dataframe\">\n",
       "  <thead>\n",
       "    <tr style=\"text-align: right;\">\n",
       "      <th></th>\n",
       "      <th>Age</th>\n",
       "      <th>Gender</th>\n",
       "      <th>Total_Bilirubin</th>\n",
       "      <th>Direct_Bilirubin</th>\n",
       "      <th>Alkaline_Phosphotase</th>\n",
       "      <th>Alamine_Aminotransferase</th>\n",
       "      <th>Aspartate_Aminotransferase</th>\n",
       "      <th>Total_Protiens</th>\n",
       "      <th>Albumin</th>\n",
       "      <th>Albumin_and_Globulin_Ratio</th>\n",
       "    </tr>\n",
       "  </thead>\n",
       "  <tbody>\n",
       "    <tr>\n",
       "      <th>0</th>\n",
       "      <td>65</td>\n",
       "      <td>0</td>\n",
       "      <td>0.7</td>\n",
       "      <td>0.1</td>\n",
       "      <td>187</td>\n",
       "      <td>16</td>\n",
       "      <td>18</td>\n",
       "      <td>6.8</td>\n",
       "      <td>3.3</td>\n",
       "      <td>0.90</td>\n",
       "    </tr>\n",
       "    <tr>\n",
       "      <th>1</th>\n",
       "      <td>62</td>\n",
       "      <td>1</td>\n",
       "      <td>10.9</td>\n",
       "      <td>5.5</td>\n",
       "      <td>699</td>\n",
       "      <td>64</td>\n",
       "      <td>100</td>\n",
       "      <td>7.5</td>\n",
       "      <td>3.2</td>\n",
       "      <td>0.74</td>\n",
       "    </tr>\n",
       "    <tr>\n",
       "      <th>2</th>\n",
       "      <td>62</td>\n",
       "      <td>1</td>\n",
       "      <td>7.3</td>\n",
       "      <td>4.1</td>\n",
       "      <td>490</td>\n",
       "      <td>60</td>\n",
       "      <td>68</td>\n",
       "      <td>7.0</td>\n",
       "      <td>3.3</td>\n",
       "      <td>0.89</td>\n",
       "    </tr>\n",
       "    <tr>\n",
       "      <th>3</th>\n",
       "      <td>58</td>\n",
       "      <td>1</td>\n",
       "      <td>1.0</td>\n",
       "      <td>0.4</td>\n",
       "      <td>182</td>\n",
       "      <td>14</td>\n",
       "      <td>20</td>\n",
       "      <td>6.8</td>\n",
       "      <td>3.4</td>\n",
       "      <td>1.00</td>\n",
       "    </tr>\n",
       "    <tr>\n",
       "      <th>4</th>\n",
       "      <td>72</td>\n",
       "      <td>1</td>\n",
       "      <td>3.9</td>\n",
       "      <td>2.0</td>\n",
       "      <td>195</td>\n",
       "      <td>27</td>\n",
       "      <td>59</td>\n",
       "      <td>7.3</td>\n",
       "      <td>2.4</td>\n",
       "      <td>0.40</td>\n",
       "    </tr>\n",
       "    <tr>\n",
       "      <th>...</th>\n",
       "      <td>...</td>\n",
       "      <td>...</td>\n",
       "      <td>...</td>\n",
       "      <td>...</td>\n",
       "      <td>...</td>\n",
       "      <td>...</td>\n",
       "      <td>...</td>\n",
       "      <td>...</td>\n",
       "      <td>...</td>\n",
       "      <td>...</td>\n",
       "    </tr>\n",
       "    <tr>\n",
       "      <th>574</th>\n",
       "      <td>60</td>\n",
       "      <td>1</td>\n",
       "      <td>0.5</td>\n",
       "      <td>0.1</td>\n",
       "      <td>500</td>\n",
       "      <td>20</td>\n",
       "      <td>34</td>\n",
       "      <td>5.9</td>\n",
       "      <td>1.6</td>\n",
       "      <td>0.37</td>\n",
       "    </tr>\n",
       "    <tr>\n",
       "      <th>575</th>\n",
       "      <td>40</td>\n",
       "      <td>1</td>\n",
       "      <td>0.6</td>\n",
       "      <td>0.1</td>\n",
       "      <td>98</td>\n",
       "      <td>35</td>\n",
       "      <td>31</td>\n",
       "      <td>6.0</td>\n",
       "      <td>3.2</td>\n",
       "      <td>1.10</td>\n",
       "    </tr>\n",
       "    <tr>\n",
       "      <th>576</th>\n",
       "      <td>52</td>\n",
       "      <td>1</td>\n",
       "      <td>0.8</td>\n",
       "      <td>0.2</td>\n",
       "      <td>245</td>\n",
       "      <td>48</td>\n",
       "      <td>49</td>\n",
       "      <td>6.4</td>\n",
       "      <td>3.2</td>\n",
       "      <td>1.00</td>\n",
       "    </tr>\n",
       "    <tr>\n",
       "      <th>577</th>\n",
       "      <td>31</td>\n",
       "      <td>1</td>\n",
       "      <td>1.3</td>\n",
       "      <td>0.5</td>\n",
       "      <td>184</td>\n",
       "      <td>29</td>\n",
       "      <td>32</td>\n",
       "      <td>6.8</td>\n",
       "      <td>3.4</td>\n",
       "      <td>1.00</td>\n",
       "    </tr>\n",
       "    <tr>\n",
       "      <th>578</th>\n",
       "      <td>38</td>\n",
       "      <td>1</td>\n",
       "      <td>1.0</td>\n",
       "      <td>0.3</td>\n",
       "      <td>216</td>\n",
       "      <td>21</td>\n",
       "      <td>24</td>\n",
       "      <td>7.3</td>\n",
       "      <td>4.4</td>\n",
       "      <td>1.50</td>\n",
       "    </tr>\n",
       "  </tbody>\n",
       "</table>\n",
       "<p>579 rows × 10 columns</p>\n",
       "</div>"
      ],
      "text/plain": [
       "     Age  Gender  Total_Bilirubin  Direct_Bilirubin  Alkaline_Phosphotase  \\\n",
       "0     65       0              0.7               0.1                   187   \n",
       "1     62       1             10.9               5.5                   699   \n",
       "2     62       1              7.3               4.1                   490   \n",
       "3     58       1              1.0               0.4                   182   \n",
       "4     72       1              3.9               2.0                   195   \n",
       "..   ...     ...              ...               ...                   ...   \n",
       "574   60       1              0.5               0.1                   500   \n",
       "575   40       1              0.6               0.1                    98   \n",
       "576   52       1              0.8               0.2                   245   \n",
       "577   31       1              1.3               0.5                   184   \n",
       "578   38       1              1.0               0.3                   216   \n",
       "\n",
       "     Alamine_Aminotransferase  Aspartate_Aminotransferase  Total_Protiens  \\\n",
       "0                          16                          18             6.8   \n",
       "1                          64                         100             7.5   \n",
       "2                          60                          68             7.0   \n",
       "3                          14                          20             6.8   \n",
       "4                          27                          59             7.3   \n",
       "..                        ...                         ...             ...   \n",
       "574                        20                          34             5.9   \n",
       "575                        35                          31             6.0   \n",
       "576                        48                          49             6.4   \n",
       "577                        29                          32             6.8   \n",
       "578                        21                          24             7.3   \n",
       "\n",
       "     Albumin  Albumin_and_Globulin_Ratio  \n",
       "0        3.3                        0.90  \n",
       "1        3.2                        0.74  \n",
       "2        3.3                        0.89  \n",
       "3        3.4                        1.00  \n",
       "4        2.4                        0.40  \n",
       "..       ...                         ...  \n",
       "574      1.6                        0.37  \n",
       "575      3.2                        1.10  \n",
       "576      3.2                        1.00  \n",
       "577      3.4                        1.00  \n",
       "578      4.4                        1.50  \n",
       "\n",
       "[579 rows x 10 columns]"
      ]
     },
     "execution_count": 11,
     "metadata": {},
     "output_type": "execute_result"
    }
   ],
   "source": [
    "X"
   ]
  },
  {
   "cell_type": "code",
   "execution_count": 12,
   "id": "8af48c19-708d-4e18-b280-ad20a942c23c",
   "metadata": {},
   "outputs": [
    {
     "data": {
      "text/plain": [
       "0    1\n",
       "1    1\n",
       "2    1\n",
       "3    1\n",
       "4    1\n",
       "Name: Result_data, dtype: int64"
      ]
     },
     "execution_count": 12,
     "metadata": {},
     "output_type": "execute_result"
    }
   ],
   "source": [
    "y.head()"
   ]
  },
  {
   "cell_type": "markdown",
   "id": "6a8911ff-c85a-4a76-a830-9f0b18f6c63d",
   "metadata": {},
   "source": [
    "## Step 3 Split data intro training and validation sets\n"
   ]
  },
  {
   "cell_type": "markdown",
   "id": "3af7f590-4083-4249-b323-9a3c46373550",
   "metadata": {},
   "source": [
    "#### Create the training set and the test set with a 70/30 split.\n",
    "We've decided to utilize a training/test split of the data at 70% training and 30% testing. This percentage split ratio is inline with common practice for small to medium sized datasets, which this data represents. Moreover, we have decided not to do a three way data split, as we are only testing two models and we wish to allocated as much data as possible to training and validation steps."
   ]
  },
  {
   "cell_type": "code",
   "execution_count": 13,
   "id": "0ed5074c-eed3-4ec1-9f5c-bbcbcef64c87",
   "metadata": {},
   "outputs": [],
   "source": [
    "X_train,X_test,y_train,y_test=train_test_split(X,y,test_size=0.3,random_state=1)"
   ]
  },
  {
   "cell_type": "markdown",
   "id": "7b55772e-a8ff-44d8-bbe1-a050e27ed896",
   "metadata": {},
   "source": [
    "## DecisionTree"
   ]
  },
  {
   "cell_type": "code",
   "execution_count": 14,
   "id": "61e0209f-3034-43f1-8847-c218a47a5813",
   "metadata": {},
   "outputs": [],
   "source": [
    "dtree=DecisionTreeClassifier(random_state=1)\n",
    "_ = dtree.fit(patient_data.drop(columns=['Result_data']), patient_data['Result_data'])"
   ]
  },
  {
   "cell_type": "code",
   "execution_count": 15,
   "id": "34e8e911-d9c2-4868-b0a1-6ae99705094a",
   "metadata": {},
   "outputs": [
    {
     "data": {
      "text/plain": [
       "DecisionTreeClassifier(random_state=1)"
      ]
     },
     "execution_count": 15,
     "metadata": {},
     "output_type": "execute_result"
    }
   ],
   "source": [
    "dtree.fit(X_train, y_train)"
   ]
  },
  {
   "cell_type": "code",
   "execution_count": 16,
   "id": "b815015d-c631-4e17-bfca-175a55fe2a4b",
   "metadata": {},
   "outputs": [],
   "source": [
    "# Criterion used to guide data splits\n",
    "criterion = ['gini', 'entropy']\n",
    "\n",
    "# Maximum number of levels in tree.\n",
    "# default = None\n",
    "max_depth = [int(x) for x in np.linspace(1, 400, 50)]\n",
    "max_depth.append(None)\n",
    "\n",
    "# Minimum number of samples required to split a node\n",
    "# default is 2\n",
    "min_samples_split = [int(x) for x in np.linspace(2, 500, 50)]\n",
    "\n",
    "# Minimum number of samples required at each leaf node\n",
    "# default = 1 \n",
    "min_samples_leaf = [int(x) for x in np.linspace(1, 1000, 50)]\n",
    "\n",
    "# max_leaf_nodes  - Grow trees with max_leaf_nodes in best-first fashion.\n",
    "# If None then unlimited number of leaf nodes.\n",
    "# default=None \n",
    "max_leaf_nodes = [int(x) for x in np.linspace(2, len(y_test), 50)]\n",
    "max_leaf_nodes.append(None)\n",
    "\n",
    "# min_impurity_decrease - A node will be split if this split induces a decrease of the impurity greater than or equal to this value.\n",
    "# default=0.0\n",
    "min_impurity_decrease = [x for x in np.arange(0.0, 0.01, 0.0001).round(5)]\n",
    "\n",
    "# Create the random grid\n",
    "param_grid_random = { 'criterion': criterion,\n",
    "                      'max_depth': max_depth,\n",
    "                      'min_samples_split': min_samples_split,\n",
    "                      'min_samples_leaf' : min_samples_leaf,\n",
    "                      'max_leaf_nodes' : max_leaf_nodes,\n",
    "                      'min_impurity_decrease' : min_impurity_decrease,\n",
    "                     }"
   ]
  },
  {
   "cell_type": "code",
   "execution_count": 17,
   "id": "ad2547b2-2415-4ab2-858c-9d94e094e867",
   "metadata": {},
   "outputs": [],
   "source": [
    "random_seed = 1\n",
    "np.random.seed(random_seed)"
   ]
  },
  {
   "cell_type": "code",
   "execution_count": 18,
   "id": "47f03c64-bb05-49f9-afc6-cdc6dee94125",
   "metadata": {},
   "outputs": [],
   "source": [
    "\n",
    "\n",
    "dtree_default = DecisionTreeClassifier(random_state=random_seed)\n",
    "\n",
    "best_random_search_model = RandomizedSearchCV(\n",
    "        estimator=DecisionTreeClassifier(random_state=random_seed), \n",
    "        scoring='recall', \n",
    "        param_distributions=param_grid_random, \n",
    "        n_iter = 2, \n",
    "        cv=10, \n",
    "        verbose=0, \n",
    "        n_jobs = -1\n",
    "    )\n",
    "_ = best_random_search_model.fit(X_train.values, y_train)"
   ]
  },
  {
   "cell_type": "code",
   "execution_count": 19,
   "id": "ad956e7d-59c3-4a78-b05f-12dcbe3975b2",
   "metadata": {},
   "outputs": [
    {
     "name": "stdout",
     "output_type": "stream",
     "text": [
      "Best parameters found:  {'min_samples_split': 134, 'min_samples_leaf': 123, 'min_impurity_decrease': 0.0016, 'max_leaf_nodes': 30, 'max_depth': 351, 'criterion': 'gini'}\n",
      "Best Recall score is 1.0\n"
     ]
    }
   ],
   "source": [
    "dtree_default = DecisionTreeClassifier(random_state=random_seed)\n",
    "\n",
    "best_random_search_model = RandomizedSearchCV(\n",
    "        estimator=DecisionTreeClassifier(random_state=random_seed), \n",
    "        scoring='recall', \n",
    "        param_distributions=param_grid_random, \n",
    "        n_iter = 2, \n",
    "        cv=10, \n",
    "        verbose=0, \n",
    "        n_jobs = -1\n",
    "    )\n",
    "_ = best_random_search_model.fit(X_train.values, y_train)\n",
    "\n",
    "random_search_best_params = best_random_search_model.best_params_\n",
    "print('Best parameters found: ', random_search_best_params)\n",
    "\n",
    "print(\"Best Recall score is {}\".format(best_random_search_model.best_score_))"
   ]
  },
  {
   "cell_type": "code",
   "execution_count": 20,
   "id": "52a085fb-dc44-4b46-b74a-9634c9bb36cc",
   "metadata": {},
   "outputs": [
    {
     "name": "stdout",
     "output_type": "stream",
     "text": [
      "Best parameters found:  {'criterion': 'gini', 'max_depth': 343, 'max_leaf_nodes': 22, 'min_impurity_decrease': 0.0006, 'min_samples_leaf': 119, 'min_samples_split': 126}\n",
      "Best Recall score is 1.0\n"
     ]
    }
   ],
   "source": [
    "plus_minus = 8 # change this to 10-15 when doing a final run. this current value is for testing\n",
    "increment = 2\n",
    "\n",
    "param_grid = { 'min_samples_split': [x for x in range(random_search_best_params['min_samples_split']-plus_minus, random_search_best_params['min_samples_split']+plus_minus,2) if x >= 2],       \n",
    "              'min_samples_leaf': [x for x in range(random_search_best_params['min_samples_leaf']-plus_minus , random_search_best_params['min_samples_leaf']+plus_minus,2) if x > 0],\n",
    "              'min_impurity_decrease': [x for x in np.arange(random_search_best_params['min_impurity_decrease']-0.001, random_search_best_params['min_impurity_decrease']+0.001,.0001).round(5) if x >= 0.000],\n",
    "              'max_leaf_nodes':[x for x in range(random_search_best_params['max_leaf_nodes']-plus_minus , random_search_best_params['max_leaf_nodes']+plus_minus, 2) if x > 1],  \n",
    "              'max_depth': [x for x in range(random_search_best_params['max_depth']-plus_minus , random_search_best_params['max_depth']+plus_minus, 2) if x > 1],\n",
    "              'criterion': [random_search_best_params['criterion']]\n",
    "              }\n",
    "best_grid_search_model = GridSearchCV(estimator=DecisionTreeClassifier(random_state=random_seed), \n",
    "                                    scoring='recall', param_grid=param_grid, cv=10, verbose=0,  n_jobs = -1)\n",
    "best_grid_search_dtree_model = best_grid_search_model.fit(X_train, y_train)\n",
    "\n",
    "print('Best parameters found: ', best_grid_search_dtree_model.best_params_)\n",
    "\n",
    "print(\"Best Recall score is {}\".format(best_random_search_model.best_score_))"
   ]
  },
  {
   "cell_type": "markdown",
   "id": "a236c381-0781-44c4-ab84-dcf2d56ae15e",
   "metadata": {},
   "source": [
    "## RandomForest"
   ]
  },
  {
   "cell_type": "code",
   "execution_count": 21,
   "id": "ab9ca056-e67f-4102-9c30-e522b3124d5f",
   "metadata": {},
   "outputs": [],
   "source": [
    "criterion = ['gini', 'entropy']\n",
    "max_depth = [int(x) for x in np.linspace(1, 500, 50)]\n",
    "min_samples_split = [int(x) for x in np.linspace(2, 500, 50)]\n",
    "min_samples_leaf = [int(x) for x in np.linspace(1, 100, 50)]\n",
    "max_leaf_nodes = [int(x) for x in np.linspace(2, len(y_test), 50)]\n",
    "min_impurity_decrease = [x for x in np.arange(0.0, 0.01, 0.0001).round(5)]\n",
    "param_grid_random = { \n",
    "                      'criterion': criterion,\n",
    "                      'max_depth': max_depth,\n",
    "                      'min_samples_split': min_samples_split,\n",
    "                      'min_samples_leaf' : min_samples_leaf,\n",
    "                      'max_leaf_nodes' : max_leaf_nodes,\n",
    "                      'min_impurity_decrease' : min_impurity_decrease,\n",
    "                     }"
   ]
  },
  {
   "cell_type": "code",
   "execution_count": 22,
   "id": "3343f434-7f6e-4783-80cd-106c442a7d92",
   "metadata": {},
   "outputs": [],
   "source": [
    "random_seed=11\n",
    "randomtree_default = RandomForestClassifier(random_state=random_seed)\n",
    "# change n_iter to 200_000 for full run\n",
    "best_random_search_model = RandomizedSearchCV(\n",
    "        estimator=RandomForestClassifier(random_state=random_seed), \n",
    "        scoring='recall', \n",
    "        param_distributions=param_grid_random, \n",
    "        n_iter = 5_000, \n",
    "        cv=10, \n",
    "        verbose=0, \n",
    "        n_jobs = -1,\n",
    "        random_state=random_seed\n",
    "    )\n",
    "best_random_search_rtree_model = best_random_search_model.fit(X_train, y_train)"
   ]
  },
  {
   "cell_type": "code",
   "execution_count": 23,
   "id": "d9dcff62-2ed0-4ece-aebd-a13f81f895f4",
   "metadata": {},
   "outputs": [
    {
     "name": "stdout",
     "output_type": "stream",
     "text": [
      "Best parameters found:  {'min_samples_split': 418, 'min_samples_leaf': 97, 'min_impurity_decrease': 0.0, 'max_leaf_nodes': 166, 'max_depth': 113, 'criterion': 'entropy'}\n"
     ]
    }
   ],
   "source": [
    "random_search_best_rtree_params = best_random_search_model.best_params_\n",
    "print('Best parameters found: ', random_search_best_rtree_params)"
   ]
  },
  {
   "cell_type": "code",
   "execution_count": 24,
   "id": "58541fc0-3761-4ac2-9c2c-919db7061930",
   "metadata": {},
   "outputs": [
    {
     "name": "stdout",
     "output_type": "stream",
     "text": [
      "************************************\n",
      "Recall Score:     0.7413793103448276\n",
      "************************************\n",
      "Accuracy Score:   0.7413793103448276\n",
      "Precision Score:  0.5496432818073722\n",
      "F1 Score:         0.6312734721748037\n",
      "************************************\n"
     ]
    },
    {
     "name": "stderr",
     "output_type": "stream",
     "text": [
      "/Users/nehasapare/opt/anaconda3/lib/python3.9/site-packages/sklearn/metrics/_classification.py:1318: UndefinedMetricWarning: Precision is ill-defined and being set to 0.0 in labels with no predicted samples. Use `zero_division` parameter to control this behavior.\n",
      "  _warn_prf(average, modifier, msg_start, len(result))\n"
     ]
    }
   ],
   "source": [
    "y_pred = best_random_search_rtree_model.predict(X_test)\n",
    "\n",
    "print(\"************************************\")\n",
    "print(f\"{'Recall Score:':18}{recall_score(y_test, y_pred,average='weighted')}\")\n",
    "print(\"************************************\")\n",
    "print(f\"{'Accuracy Score: ':18}{accuracy_score(y_test, y_pred)}\")\n",
    "print(f\"{'Precision Score: ':18}{precision_score(y_test, y_pred,average='weighted')}\")\n",
    "print(f\"{'F1 Score: ':18}{f1_score(y_test, y_pred,average='weighted')}\")\n",
    "print(\"************************************\")"
   ]
  },
  {
   "cell_type": "code",
   "execution_count": null,
   "id": "a12621e5-fc88-4578-af6a-17fe5959e10d",
   "metadata": {},
   "outputs": [],
   "source": []
  }
 ],
 "metadata": {
  "kernelspec": {
   "display_name": "Python 3 (ipykernel)",
   "language": "python",
   "name": "python3"
  },
  "language_info": {
   "codemirror_mode": {
    "name": "ipython",
    "version": 3
   },
   "file_extension": ".py",
   "mimetype": "text/x-python",
   "name": "python",
   "nbconvert_exporter": "python",
   "pygments_lexer": "ipython3",
   "version": "3.9.12"
  }
 },
 "nbformat": 4,
 "nbformat_minor": 5
}
